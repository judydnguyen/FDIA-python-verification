{
 "cells": [
  {
   "cell_type": "code",
   "execution_count": 2,
   "metadata": {},
   "outputs": [],
   "source": [
    "file_path = \"examples/fdia/epsilon_0.01/class_0/results/exact/summary_verify_fdia_ffnn.npz\"\n",
    "file_path_cls_1 = \"examples/fdia/epsilon_0.01/class_1/results/exact/summary_verify_fdia_ffnn.npz\""
   ]
  },
  {
   "cell_type": "code",
   "execution_count": 3,
   "metadata": {},
   "outputs": [],
   "source": [
    "import numpy as np\n",
    "\n",
    "class_0_ret = np.load(file_path)\n",
    "class_1_ret = np.load(file_path_cls_1)"
   ]
  },
  {
   "cell_type": "code",
   "execution_count": 7,
   "metadata": {},
   "outputs": [
    {
     "name": "stdout",
     "output_type": "stream",
     "text": [
      "[2 1 1 1 1 1 1 1 1 1]\n",
      "[60.00194938  4.47569487  1.49574755  0.78998803 23.52401108  0.8424499\n",
      " 13.67633433  0.90816374  5.11752077 26.60698785]\n"
     ]
    }
   ],
   "source": [
    "print(class_0_ret['results'])\n",
    "print(class_0_ret['times'])"
   ]
  },
  {
   "cell_type": "code",
   "execution_count": 14,
   "metadata": {},
   "outputs": [
    {
     "data": {
      "text/plain": [
       "(array([0]),)"
      ]
     },
     "execution_count": 14,
     "metadata": {},
     "output_type": "execute_result"
    }
   ],
   "source": [
    "np.where(results_array == 2)"
   ]
  },
  {
   "cell_type": "code",
   "execution_count": 15,
   "metadata": {},
   "outputs": [
    {
     "name": "stdout",
     "output_type": "stream",
     "text": [
      "======= ROBUSTNESS RESULTS ==========\n",
      "Number of robust samples = 9, equivalent to 90.00% of the samples.\n",
      "Number of not robust samples = 0, equivalent to 0.00% of the samples.\n",
      "Number of unknown samples = 1, equivalent to 10.00% of the samples.\n",
      "It took a total of 137.44 seconds to compute the verification results, an average of 13.74 seconds per image\n"
     ]
    }
   ],
   "source": [
    "# Convert results and times to numpy arrays for summary calculations\n",
    "results_array = class_0_ret['results']\n",
    "times_array = class_0_ret['times']\n",
    "N = len(results_array)  # Total number of samples\n",
    "\n",
    "# Calculate summary statistics\n",
    "totalTime = times_array.sum()\n",
    "avgTime = totalTime / N if N > 0 else 0\n",
    "\n",
    "robust_samples = np.count_nonzero(results_array == 1)\n",
    "not_robust_samples = np.count_nonzero(results_array == 0)\n",
    "unknown_samples = np.count_nonzero(results_array == 2)\n",
    "\n",
    "# Print results to the screen\n",
    "print(\"======= ROBUSTNESS RESULTS ==========\")\n",
    "print(f\"Number of robust samples = {robust_samples}, equivalent to {100 * robust_samples / N:.2f}% of the samples.\")\n",
    "print(f\"Number of not robust samples = {not_robust_samples}, equivalent to {100 * not_robust_samples / N:.2f}% of the samples.\")\n",
    "print(f\"Number of unknown samples = {unknown_samples}, equivalent to {100 * unknown_samples / N:.2f}% of the samples.\")\n",
    "print(f\"It took a total of {totalTime:.2f} seconds to compute the verification results, an average of {avgTime:.2f} seconds per image\")"
   ]
  },
  {
   "cell_type": "code",
   "execution_count": 16,
   "metadata": {},
   "outputs": [
    {
     "name": "stdout",
     "output_type": "stream",
     "text": [
      "======= ROBUSTNESS RESULTS ==========\n",
      "Number of robust samples = 6, equivalent to 60.00% of the samples.\n",
      "Number of not robust samples = 3, equivalent to 30.00% of the samples.\n",
      "Number of unknown samples = 1, equivalent to 10.00% of the samples.\n",
      "It took a total of 122.05 seconds to compute the verification results, an average of 12.21 seconds per image\n"
     ]
    }
   ],
   "source": [
    "# Convert results and times to numpy arrays for summary calculations\n",
    "results_array = class_1_ret['results']\n",
    "times_array = class_1_ret['times']\n",
    "N = len(results_array)  # Total number of samples\n",
    "\n",
    "# Calculate summary statistics\n",
    "totalTime = times_array.sum()\n",
    "avgTime = totalTime / N if N > 0 else 0\n",
    "\n",
    "robust_samples = np.count_nonzero(results_array == 1)\n",
    "not_robust_samples = np.count_nonzero(results_array == 0)\n",
    "unknown_samples = np.count_nonzero(results_array == 2)\n",
    "\n",
    "# Print results to the screen\n",
    "print(\"======= ROBUSTNESS RESULTS ==========\")\n",
    "print(f\"Number of robust samples = {robust_samples}, equivalent to {100 * robust_samples / N:.2f}% of the samples.\")\n",
    "print(f\"Number of not robust samples = {not_robust_samples}, equivalent to {100 * not_robust_samples / N:.2f}% of the samples.\")\n",
    "print(f\"Number of unknown samples = {unknown_samples}, equivalent to {100 * unknown_samples / N:.2f}% of the samples.\")\n",
    "print(f\"It took a total of {totalTime:.2f} seconds to compute the verification results, an average of {avgTime:.2f} seconds per image\")"
   ]
  }
 ],
 "metadata": {
  "kernelspec": {
   "display_name": "judy",
   "language": "python",
   "name": "python3"
  },
  "language_info": {
   "codemirror_mode": {
    "name": "ipython",
    "version": 3
   },
   "file_extension": ".py",
   "mimetype": "text/x-python",
   "name": "python",
   "nbconvert_exporter": "python",
   "pygments_lexer": "ipython3",
   "version": "3.11.5"
  }
 },
 "nbformat": 4,
 "nbformat_minor": 2
}
