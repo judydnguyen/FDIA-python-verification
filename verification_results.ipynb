{
 "cells": [
  {
   "cell_type": "code",
   "execution_count": 68,
   "metadata": {},
   "outputs": [],
   "source": [
    "file_path = \"examples/fdia/epsilon_0.025/class_0/results/auto/summary_verify_fdia_ffnn_pytorch 100 200.npz\"\n",
    "file_path_cls_1 = \"examples/fdia/epsilon_0.025/class_1/results/auto/summary_verify_fdia_ffnn_pytorch 100 200.npz\""
   ]
  },
  {
   "cell_type": "code",
   "execution_count": 69,
   "metadata": {},
   "outputs": [],
   "source": [
    "import numpy as np\n",
    "\n",
    "class_0_ret = np.load(file_path)\n",
    "class_1_ret = np.load(file_path_cls_1)"
   ]
  },
  {
   "cell_type": "code",
   "execution_count": 70,
   "metadata": {},
   "outputs": [
    {
     "name": "stdout",
     "output_type": "stream",
     "text": [
      "[2 0 0 2 0 2 2 2 2 2]\n",
      "[6.00072084e+01 2.25227310e-02 1.20653353e+01 6.00005430e+01\n",
      " 5.61634420e+01 6.00137377e+01 6.00122449e+01 6.00046620e+01\n",
      " 6.00155287e+01 6.00018163e+01]\n"
     ]
    }
   ],
   "source": [
    "print(class_0_ret['results'])\n",
    "print(class_0_ret['times'])"
   ]
  },
  {
   "cell_type": "code",
   "execution_count": 71,
   "metadata": {},
   "outputs": [
    {
     "name": "stdout",
     "output_type": "stream",
     "text": [
      "======= ROBUSTNESS RESULTS ==========\n",
      "Number of robust samples = 0, equivalent to 0.00% of the samples.\n",
      "Number of not robust samples = 3, equivalent to 30.00% of the samples.\n",
      "Number of unknown samples = 7, equivalent to 70.00% of the samples.\n",
      "It took a total of 488.31 seconds to compute the verification results, an average of 48.83 seconds per image\n"
     ]
    }
   ],
   "source": [
    "# Convert results and times to numpy arrays for summary calculations\n",
    "results_array = class_0_ret['results']\n",
    "times_array = class_0_ret['times']\n",
    "N = len(results_array)  # Total number of samples\n",
    "\n",
    "# Calculate summary statistics\n",
    "totalTime = times_array.sum()\n",
    "avgTime = totalTime / N if N > 0 else 0\n",
    "\n",
    "robust_samples = np.count_nonzero(results_array == 1)\n",
    "not_robust_samples = np.count_nonzero(results_array == 0)\n",
    "unknown_samples = np.count_nonzero(results_array == 2)\n",
    "\n",
    "# Print results to the screen\n",
    "print(\"======= ROBUSTNESS RESULTS ==========\")\n",
    "print(f\"Number of robust samples = {robust_samples}, equivalent to {100 * robust_samples / N:.2f}% of the samples.\")\n",
    "print(f\"Number of not robust samples = {not_robust_samples}, equivalent to {100 * not_robust_samples / N:.2f}% of the samples.\")\n",
    "print(f\"Number of unknown samples = {unknown_samples}, equivalent to {100 * unknown_samples / N:.2f}% of the samples.\")\n",
    "print(f\"It took a total of {totalTime:.2f} seconds to compute the verification results, an average of {avgTime:.2f} seconds per image\")"
   ]
  },
  {
   "cell_type": "code",
   "execution_count": 72,
   "metadata": {},
   "outputs": [
    {
     "name": "stdout",
     "output_type": "stream",
     "text": [
      "======= ROBUSTNESS RESULTS ==========\n",
      "Number of robust samples = 0, equivalent to 0.00% of the samples.\n",
      "Number of not robust samples = 6, equivalent to 60.00% of the samples.\n",
      "Number of unknown samples = 4, equivalent to 40.00% of the samples.\n",
      "It took a total of 252.39 seconds to compute the verification results, an average of 25.24 seconds per image\n"
     ]
    }
   ],
   "source": [
    "# Convert results and times to numpy arrays for summary calculations\n",
    "results_array = class_1_ret['results']\n",
    "times_array = class_1_ret['times']\n",
    "N = len(results_array)  # Total number of samples\n",
    "\n",
    "# Calculate summary statistics\n",
    "totalTime = times_array.sum()\n",
    "avgTime = totalTime / N if N > 0 else 0\n",
    "\n",
    "robust_samples = np.count_nonzero(results_array == 1)\n",
    "not_robust_samples = np.count_nonzero(results_array == 0)\n",
    "unknown_samples = np.count_nonzero(results_array == 2)\n",
    "\n",
    "# Print results to the screen\n",
    "print(\"======= ROBUSTNESS RESULTS ==========\")\n",
    "print(f\"Number of robust samples = {robust_samples}, equivalent to {100 * robust_samples / N:.2f}% of the samples.\")\n",
    "print(f\"Number of not robust samples = {not_robust_samples}, equivalent to {100 * not_robust_samples / N:.2f}% of the samples.\")\n",
    "print(f\"Number of unknown samples = {unknown_samples}, equivalent to {100 * unknown_samples / N:.2f}% of the samples.\")\n",
    "print(f\"It took a total of {totalTime:.2f} seconds to compute the verification results, an average of {avgTime:.2f} seconds per image\")"
   ]
  },
  {
   "cell_type": "code",
   "execution_count": null,
   "metadata": {},
   "outputs": [],
   "source": []
  }
 ],
 "metadata": {
  "kernelspec": {
   "display_name": "judy",
   "language": "python",
   "name": "python3"
  },
  "language_info": {
   "codemirror_mode": {
    "name": "ipython",
    "version": 3
   },
   "file_extension": ".py",
   "mimetype": "text/x-python",
   "name": "python",
   "nbconvert_exporter": "python",
   "pygments_lexer": "ipython3",
   "version": "3.11.5"
  }
 },
 "nbformat": 4,
 "nbformat_minor": 2
}
